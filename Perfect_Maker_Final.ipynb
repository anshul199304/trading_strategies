{
 "cells": [
  {
   "cell_type": "markdown",
   "metadata": {},
   "source": [
    "## Anshul Agrawal 12211984"
   ]
  },
  {
   "cell_type": "markdown",
   "metadata": {},
   "source": [
    "## Analysis on Small trades files"
   ]
  },
  {
   "cell_type": "markdown",
   "metadata": {},
   "source": [
    "### Importing Modules"
   ]
  },
  {
   "cell_type": "code",
   "execution_count": 1,
   "metadata": {},
   "outputs": [],
   "source": [
    "import pandas as pd\n",
    "import numpy as np\n",
    "import datetime\n",
    "import time\n",
    "from matplotlib import pyplot as plt"
   ]
  },
  {
   "cell_type": "markdown",
   "metadata": {},
   "source": [
    "### Reading the small trades data files"
   ]
  },
  {
   "cell_type": "code",
   "execution_count": 2,
   "metadata": {},
   "outputs": [],
   "source": [
    "dfT = pd.read_csv(\"mkt_make_BTC_hw_small__trades.tab\", sep='\\t')\n",
    "dflev = pd.read_csv(\"mkt_make_BTC_hw_small__book_lev_2.tab\", sep='\\t')"
   ]
  },
  {
   "cell_type": "markdown",
   "metadata": {},
   "source": [
    "### Modifying the columns to the correct scale and dropping the irrelevant columns"
   ]
  },
  {
   "cell_type": "code",
   "execution_count": 3,
   "metadata": {},
   "outputs": [],
   "source": [
    "dflev['Ask1PriceMillionths'] = dflev['Ask1PriceMillionths'].apply(lambda x: np.float(x)/np.float(10**6))\n",
    "dflev['Ask1SizeBillionths'] = dflev['Ask1SizeBillionths'].apply(lambda x: np.float(x)/np.float(10**9))\n",
    "dflev['Bid1PriceMillionths'] = dflev['Bid1PriceMillionths'].apply(lambda x: np.float(x)/np.float(10**6))\n",
    "dflev['Bid1SizeBillionths'] = dflev['Bid1SizeBillionths'].apply(lambda x: np.float(x)/np.float(10**9))\n",
    "dflev.drop(columns = ['Ask2PriceMillionths','Ask3PriceMillionths','Ask2SizeBillionths','Ask3SizeBillionths',\\\n",
    "                      'Bid2PriceMillionths','Bid2SizeBillionths','Bid3PriceMillionths','Bid3SizeBillionths'] ,inplace = True)"
   ]
  },
  {
   "cell_type": "markdown",
   "metadata": {},
   "source": [
    "### Merging the tables on a Price-Timestamp pair\n",
    "    - Two separate tables for bid and ask"
   ]
  },
  {
   "cell_type": "code",
   "execution_count": 4,
   "metadata": {},
   "outputs": [],
   "source": [
    "dfT[\"PriceTimePairAsk\"] = (dfT[\"timestamp_utc_microseconds\"].map(int)).map(str) + dfT[\"Price\"].map(str)\n",
    "dflev[\"PriceTimePairAsk\"] = (dflev[\"timestamp_utc_microseconds\"].map(int)).map(str) + dflev[\"Ask1PriceMillionths\"].map(str)\n",
    "dfAsk = pd.merge(dfT,dflev, on = 'PriceTimePairAsk', how = 'inner')\n",
    "dfAsk.drop(columns = ['timestamp_utc_microseconds_y','PriceTimePairAsk'], inplace = True)\n",
    "dfAsk.rename(columns = {'timestamp_utc_microseconds_x':'timestamp_utc_microseconds'}, inplace = True)\n",
    "dfT.drop(columns = ['PriceTimePairAsk'], inplace = True)"
   ]
  },
  {
   "cell_type": "code",
   "execution_count": 5,
   "metadata": {},
   "outputs": [
    {
     "data": {
      "text/html": [
       "<div>\n",
       "<style scoped>\n",
       "    .dataframe tbody tr th:only-of-type {\n",
       "        vertical-align: middle;\n",
       "    }\n",
       "\n",
       "    .dataframe tbody tr th {\n",
       "        vertical-align: top;\n",
       "    }\n",
       "\n",
       "    .dataframe thead th {\n",
       "        text-align: right;\n",
       "    }\n",
       "</style>\n",
       "<table border=\"1\" class=\"dataframe\">\n",
       "  <thead>\n",
       "    <tr style=\"text-align: right;\">\n",
       "      <th></th>\n",
       "      <th>timestamp_utc_microseconds</th>\n",
       "      <th>Price</th>\n",
       "      <th>Size</th>\n",
       "      <th>Ask1PriceMillionths</th>\n",
       "      <th>Ask1SizeBillionths</th>\n",
       "      <th>Bid1PriceMillionths</th>\n",
       "      <th>Bid1SizeBillionths</th>\n",
       "      <th>received_utc_microseconds</th>\n",
       "    </tr>\n",
       "  </thead>\n",
       "  <tbody>\n",
       "    <tr>\n",
       "      <th>0</th>\n",
       "      <td>1523225288293000</td>\n",
       "      <td>7035.55</td>\n",
       "      <td>0.1034</td>\n",
       "      <td>7035.55</td>\n",
       "      <td>65.958939</td>\n",
       "      <td>7035.54</td>\n",
       "      <td>5.584317</td>\n",
       "      <td>1523225288307619</td>\n",
       "    </tr>\n",
       "    <tr>\n",
       "      <th>1</th>\n",
       "      <td>1523225299105000</td>\n",
       "      <td>7035.55</td>\n",
       "      <td>0.1502</td>\n",
       "      <td>7035.55</td>\n",
       "      <td>65.876289</td>\n",
       "      <td>7035.54</td>\n",
       "      <td>5.201242</td>\n",
       "      <td>1523225299120169</td>\n",
       "    </tr>\n",
       "    <tr>\n",
       "      <th>2</th>\n",
       "      <td>1523225334890000</td>\n",
       "      <td>7035.55</td>\n",
       "      <td>0.0469</td>\n",
       "      <td>7035.55</td>\n",
       "      <td>64.883748</td>\n",
       "      <td>7035.54</td>\n",
       "      <td>3.471626</td>\n",
       "      <td>1523225334906053</td>\n",
       "    </tr>\n",
       "    <tr>\n",
       "      <th>3</th>\n",
       "      <td>1523225334890000</td>\n",
       "      <td>7035.55</td>\n",
       "      <td>0.0469</td>\n",
       "      <td>7035.55</td>\n",
       "      <td>64.881119</td>\n",
       "      <td>7035.54</td>\n",
       "      <td>3.471626</td>\n",
       "      <td>1523225334910150</td>\n",
       "    </tr>\n",
       "    <tr>\n",
       "      <th>4</th>\n",
       "      <td>1523225334890000</td>\n",
       "      <td>7035.55</td>\n",
       "      <td>0.0469</td>\n",
       "      <td>7035.55</td>\n",
       "      <td>64.879911</td>\n",
       "      <td>7035.54</td>\n",
       "      <td>3.471626</td>\n",
       "      <td>1523225334946847</td>\n",
       "    </tr>\n",
       "  </tbody>\n",
       "</table>\n",
       "</div>"
      ],
      "text/plain": [
       "   timestamp_utc_microseconds    Price    Size  Ask1PriceMillionths  \\\n",
       "0            1523225288293000  7035.55  0.1034              7035.55   \n",
       "1            1523225299105000  7035.55  0.1502              7035.55   \n",
       "2            1523225334890000  7035.55  0.0469              7035.55   \n",
       "3            1523225334890000  7035.55  0.0469              7035.55   \n",
       "4            1523225334890000  7035.55  0.0469              7035.55   \n",
       "\n",
       "   Ask1SizeBillionths  Bid1PriceMillionths  Bid1SizeBillionths  \\\n",
       "0           65.958939              7035.54            5.584317   \n",
       "1           65.876289              7035.54            5.201242   \n",
       "2           64.883748              7035.54            3.471626   \n",
       "3           64.881119              7035.54            3.471626   \n",
       "4           64.879911              7035.54            3.471626   \n",
       "\n",
       "   received_utc_microseconds  \n",
       "0           1523225288307619  \n",
       "1           1523225299120169  \n",
       "2           1523225334906053  \n",
       "3           1523225334910150  \n",
       "4           1523225334946847  "
      ]
     },
     "execution_count": 5,
     "metadata": {},
     "output_type": "execute_result"
    }
   ],
   "source": [
    "dfAsk.head()"
   ]
  },
  {
   "cell_type": "code",
   "execution_count": 6,
   "metadata": {},
   "outputs": [],
   "source": [
    "dfT[\"PriceTimePairBid\"] = dfT[\"timestamp_utc_microseconds\"].map(str) + dfT[\"Price\"].map(str)\n",
    "dflev[\"PriceTimePairBid\"] = dflev[\"timestamp_utc_microseconds\"].map(str) + dflev[\"Bid1PriceMillionths\"].map(str)\n",
    "dfBid = pd.merge(dfT,dflev, on = 'PriceTimePairBid', how = 'inner')\n",
    "dfBid.drop(columns = ['timestamp_utc_microseconds_y','PriceTimePairBid','PriceTimePairAsk'], inplace = True)\n",
    "dfBid.rename(columns = {'timestamp_utc_microseconds_x':'timestamp_utc_microseconds'}, inplace = True)\n",
    "dfT.drop(columns = ['PriceTimePairBid'], inplace = True)"
   ]
  },
  {
   "cell_type": "code",
   "execution_count": 7,
   "metadata": {},
   "outputs": [
    {
     "data": {
      "text/html": [
       "<div>\n",
       "<style scoped>\n",
       "    .dataframe tbody tr th:only-of-type {\n",
       "        vertical-align: middle;\n",
       "    }\n",
       "\n",
       "    .dataframe tbody tr th {\n",
       "        vertical-align: top;\n",
       "    }\n",
       "\n",
       "    .dataframe thead th {\n",
       "        text-align: right;\n",
       "    }\n",
       "</style>\n",
       "<table border=\"1\" class=\"dataframe\">\n",
       "  <thead>\n",
       "    <tr style=\"text-align: right;\">\n",
       "      <th></th>\n",
       "      <th>timestamp_utc_microseconds</th>\n",
       "      <th>Price</th>\n",
       "      <th>Size</th>\n",
       "      <th>Ask1PriceMillionths</th>\n",
       "      <th>Ask1SizeBillionths</th>\n",
       "      <th>Bid1PriceMillionths</th>\n",
       "      <th>Bid1SizeBillionths</th>\n",
       "      <th>received_utc_microseconds</th>\n",
       "    </tr>\n",
       "  </thead>\n",
       "  <tbody>\n",
       "    <tr>\n",
       "      <th>0</th>\n",
       "      <td>1523225293472000</td>\n",
       "      <td>7035.54</td>\n",
       "      <td>0.3900</td>\n",
       "      <td>7035.55</td>\n",
       "      <td>66.015939</td>\n",
       "      <td>7035.54</td>\n",
       "      <td>5.201242</td>\n",
       "      <td>1523225293492054</td>\n",
       "    </tr>\n",
       "    <tr>\n",
       "      <th>1</th>\n",
       "      <td>1523225300858000</td>\n",
       "      <td>7035.54</td>\n",
       "      <td>0.0630</td>\n",
       "      <td>7035.55</td>\n",
       "      <td>63.821910</td>\n",
       "      <td>7035.54</td>\n",
       "      <td>5.193785</td>\n",
       "      <td>1523225300873077</td>\n",
       "    </tr>\n",
       "    <tr>\n",
       "      <th>2</th>\n",
       "      <td>1523225300858000</td>\n",
       "      <td>7035.54</td>\n",
       "      <td>0.0630</td>\n",
       "      <td>7035.55</td>\n",
       "      <td>63.821910</td>\n",
       "      <td>7035.54</td>\n",
       "      <td>5.138242</td>\n",
       "      <td>1523225300875415</td>\n",
       "    </tr>\n",
       "    <tr>\n",
       "      <th>3</th>\n",
       "      <td>1523225303087000</td>\n",
       "      <td>7035.54</td>\n",
       "      <td>0.1030</td>\n",
       "      <td>7035.55</td>\n",
       "      <td>63.721780</td>\n",
       "      <td>7035.54</td>\n",
       "      <td>5.035242</td>\n",
       "      <td>1523225303216114</td>\n",
       "    </tr>\n",
       "    <tr>\n",
       "      <th>4</th>\n",
       "      <td>1523225310531000</td>\n",
       "      <td>7035.54</td>\n",
       "      <td>0.0322</td>\n",
       "      <td>7035.55</td>\n",
       "      <td>63.721780</td>\n",
       "      <td>7035.54</td>\n",
       "      <td>5.034372</td>\n",
       "      <td>1523225310546098</td>\n",
       "    </tr>\n",
       "  </tbody>\n",
       "</table>\n",
       "</div>"
      ],
      "text/plain": [
       "   timestamp_utc_microseconds    Price    Size  Ask1PriceMillionths  \\\n",
       "0            1523225293472000  7035.54  0.3900              7035.55   \n",
       "1            1523225300858000  7035.54  0.0630              7035.55   \n",
       "2            1523225300858000  7035.54  0.0630              7035.55   \n",
       "3            1523225303087000  7035.54  0.1030              7035.55   \n",
       "4            1523225310531000  7035.54  0.0322              7035.55   \n",
       "\n",
       "   Ask1SizeBillionths  Bid1PriceMillionths  Bid1SizeBillionths  \\\n",
       "0           66.015939              7035.54            5.201242   \n",
       "1           63.821910              7035.54            5.193785   \n",
       "2           63.821910              7035.54            5.138242   \n",
       "3           63.721780              7035.54            5.035242   \n",
       "4           63.721780              7035.54            5.034372   \n",
       "\n",
       "   received_utc_microseconds  \n",
       "0           1523225293492054  \n",
       "1           1523225300873077  \n",
       "2           1523225300875415  \n",
       "3           1523225303216114  \n",
       "4           1523225310546098  "
      ]
     },
     "execution_count": 7,
     "metadata": {},
     "output_type": "execute_result"
    }
   ],
   "source": [
    "dfBid.head()"
   ]
  },
  {
   "cell_type": "markdown",
   "metadata": {},
   "source": [
    "### Concatenating the bid-ask tables to form one single table and then sorting the rows in ascending order of received timestamp"
   ]
  },
  {
   "cell_type": "code",
   "execution_count": 8,
   "metadata": {
    "scrolled": true
   },
   "outputs": [
    {
     "data": {
      "text/html": [
       "<div>\n",
       "<style scoped>\n",
       "    .dataframe tbody tr th:only-of-type {\n",
       "        vertical-align: middle;\n",
       "    }\n",
       "\n",
       "    .dataframe tbody tr th {\n",
       "        vertical-align: top;\n",
       "    }\n",
       "\n",
       "    .dataframe thead th {\n",
       "        text-align: right;\n",
       "    }\n",
       "</style>\n",
       "<table border=\"1\" class=\"dataframe\">\n",
       "  <thead>\n",
       "    <tr style=\"text-align: right;\">\n",
       "      <th></th>\n",
       "      <th>timestamp_utc_microseconds</th>\n",
       "      <th>Price</th>\n",
       "      <th>Size</th>\n",
       "      <th>Ask1PriceMillionths</th>\n",
       "      <th>Bid1PriceMillionths</th>\n",
       "    </tr>\n",
       "  </thead>\n",
       "  <tbody>\n",
       "    <tr>\n",
       "      <th>0</th>\n",
       "      <td>1523225288293000</td>\n",
       "      <td>7035.55</td>\n",
       "      <td>0.1034</td>\n",
       "      <td>7035.55</td>\n",
       "      <td>7035.54</td>\n",
       "    </tr>\n",
       "    <tr>\n",
       "      <th>17</th>\n",
       "      <td>1523225293472000</td>\n",
       "      <td>7035.54</td>\n",
       "      <td>0.3900</td>\n",
       "      <td>7035.55</td>\n",
       "      <td>7035.54</td>\n",
       "    </tr>\n",
       "    <tr>\n",
       "      <th>1</th>\n",
       "      <td>1523225299105000</td>\n",
       "      <td>7035.55</td>\n",
       "      <td>0.1502</td>\n",
       "      <td>7035.55</td>\n",
       "      <td>7035.54</td>\n",
       "    </tr>\n",
       "    <tr>\n",
       "      <th>18</th>\n",
       "      <td>1523225300858000</td>\n",
       "      <td>7035.54</td>\n",
       "      <td>0.0630</td>\n",
       "      <td>7035.55</td>\n",
       "      <td>7035.54</td>\n",
       "    </tr>\n",
       "    <tr>\n",
       "      <th>20</th>\n",
       "      <td>1523225303087000</td>\n",
       "      <td>7035.54</td>\n",
       "      <td>0.1030</td>\n",
       "      <td>7035.55</td>\n",
       "      <td>7035.54</td>\n",
       "    </tr>\n",
       "  </tbody>\n",
       "</table>\n",
       "</div>"
      ],
      "text/plain": [
       "    timestamp_utc_microseconds    Price    Size  Ask1PriceMillionths  \\\n",
       "0             1523225288293000  7035.55  0.1034              7035.55   \n",
       "17            1523225293472000  7035.54  0.3900              7035.55   \n",
       "1             1523225299105000  7035.55  0.1502              7035.55   \n",
       "18            1523225300858000  7035.54  0.0630              7035.55   \n",
       "20            1523225303087000  7035.54  0.1030              7035.55   \n",
       "\n",
       "    Bid1PriceMillionths  \n",
       "0               7035.54  \n",
       "17              7035.54  \n",
       "1               7035.54  \n",
       "18              7035.54  \n",
       "20              7035.54  "
      ]
     },
     "execution_count": 8,
     "metadata": {},
     "output_type": "execute_result"
    }
   ],
   "source": [
    "df = pd.concat([dfAsk,dfBid], axis = 0).reset_index(drop = True)\n",
    "df.sort_values(by = ['received_utc_microseconds'], inplace = True)\n",
    "df.drop(columns = ['Ask1SizeBillionths','Bid1SizeBillionths','received_utc_microseconds'], inplace = True)\n",
    "df.drop_duplicates(inplace = True)\n",
    "df.head()"
   ]
  },
  {
   "cell_type": "code",
   "execution_count": 9,
   "metadata": {},
   "outputs": [],
   "source": [
    "def PnLMarketMaker(df,s,j,k):\n",
    "    df['Trade'] = 0.0 * len(df.index)\n",
    "    df['Cash'] = 0.0 * len(df.index)\n",
    "    df['CashI/O'] = 0.0 * len(df.index)\n",
    "    df['Position'] = 0.0 * len(df.index)\n",
    "    df['timestamp_utc_microseconds'] = df['timestamp_utc_microseconds'].apply(lambda x: \\\n",
    "                                                                                    datetime.datetime.fromtimestamp(x/(10**6)))\n",
    "    \n",
    "    df.loc[df['Price'] == df['Ask1PriceMillionths'],'Trade'] = -s\n",
    "    df.loc[df['Price'] == df['Bid1PriceMillionths'],'Trade'] = s\n",
    "\n",
    "    #Participation criteria:\n",
    "    \n",
    "    for i in range(0,len(df.index)):\n",
    "        if ((abs(df.iat[i,2]) <= 4 * s) or (df.iat[i-1,8] + s > j)) and df.iat[i,5] == s:\n",
    "            df.iat[i,5] = 0\n",
    "        elif ((abs(df.iat[i,2]) <= 4 * s) or (df.iat[i-1,8] -s < -k))  and df.iat[i,5] == -s:\n",
    "            df.iat[i,5] = 0\n",
    "            \n",
    "        df.iat[i,8] = df.iat[i-1,8] + df.iat[i,5]\n",
    "    \n",
    "    df['CashI/O'] = - df['Trade'] * df['Price']\n",
    "    df['Cash'] = df['CashI/O'].cumsum()\n",
    "    \n",
    "    df.drop(df[df['Trade'] == 0].index, inplace = True)\n",
    "    \n",
    "    df = df.reset_index(drop = True)\n",
    "    \n",
    "    return df"
   ]
  },
  {
   "cell_type": "code",
   "execution_count": 10,
   "metadata": {},
   "outputs": [
    {
     "data": {
      "text/html": [
       "<div>\n",
       "<style scoped>\n",
       "    .dataframe tbody tr th:only-of-type {\n",
       "        vertical-align: middle;\n",
       "    }\n",
       "\n",
       "    .dataframe tbody tr th {\n",
       "        vertical-align: top;\n",
       "    }\n",
       "\n",
       "    .dataframe thead th {\n",
       "        text-align: right;\n",
       "    }\n",
       "</style>\n",
       "<table border=\"1\" class=\"dataframe\">\n",
       "  <thead>\n",
       "    <tr style=\"text-align: right;\">\n",
       "      <th></th>\n",
       "      <th>timestamp_utc_microseconds</th>\n",
       "      <th>Price</th>\n",
       "      <th>Size</th>\n",
       "      <th>Ask1PriceMillionths</th>\n",
       "      <th>Bid1PriceMillionths</th>\n",
       "      <th>Trade</th>\n",
       "      <th>Cash</th>\n",
       "      <th>CashI/O</th>\n",
       "      <th>Position</th>\n",
       "    </tr>\n",
       "  </thead>\n",
       "  <tbody>\n",
       "    <tr>\n",
       "      <th>0</th>\n",
       "      <td>2018-04-08 17:08:08.293</td>\n",
       "      <td>7035.55</td>\n",
       "      <td>0.103400</td>\n",
       "      <td>7035.55</td>\n",
       "      <td>7035.54</td>\n",
       "      <td>-0.01</td>\n",
       "      <td>70.3555</td>\n",
       "      <td>70.3555</td>\n",
       "      <td>-0.01</td>\n",
       "    </tr>\n",
       "    <tr>\n",
       "      <th>1</th>\n",
       "      <td>2018-04-08 17:08:13.472</td>\n",
       "      <td>7035.54</td>\n",
       "      <td>0.390000</td>\n",
       "      <td>7035.55</td>\n",
       "      <td>7035.54</td>\n",
       "      <td>0.01</td>\n",
       "      <td>0.0001</td>\n",
       "      <td>-70.3554</td>\n",
       "      <td>0.00</td>\n",
       "    </tr>\n",
       "    <tr>\n",
       "      <th>2</th>\n",
       "      <td>2018-04-08 17:08:19.105</td>\n",
       "      <td>7035.55</td>\n",
       "      <td>0.150200</td>\n",
       "      <td>7035.55</td>\n",
       "      <td>7035.54</td>\n",
       "      <td>-0.01</td>\n",
       "      <td>70.3556</td>\n",
       "      <td>70.3555</td>\n",
       "      <td>-0.01</td>\n",
       "    </tr>\n",
       "    <tr>\n",
       "      <th>3</th>\n",
       "      <td>2018-04-08 17:08:20.858</td>\n",
       "      <td>7035.54</td>\n",
       "      <td>0.063000</td>\n",
       "      <td>7035.55</td>\n",
       "      <td>7035.54</td>\n",
       "      <td>0.01</td>\n",
       "      <td>0.0002</td>\n",
       "      <td>-70.3554</td>\n",
       "      <td>0.00</td>\n",
       "    </tr>\n",
       "    <tr>\n",
       "      <th>4</th>\n",
       "      <td>2018-04-08 17:08:23.087</td>\n",
       "      <td>7035.54</td>\n",
       "      <td>0.103000</td>\n",
       "      <td>7035.55</td>\n",
       "      <td>7035.54</td>\n",
       "      <td>0.01</td>\n",
       "      <td>-70.3552</td>\n",
       "      <td>-70.3554</td>\n",
       "      <td>0.01</td>\n",
       "    </tr>\n",
       "    <tr>\n",
       "      <th>5</th>\n",
       "      <td>2018-04-08 17:08:42.770</td>\n",
       "      <td>7035.54</td>\n",
       "      <td>0.122300</td>\n",
       "      <td>7035.55</td>\n",
       "      <td>7035.54</td>\n",
       "      <td>0.01</td>\n",
       "      <td>-140.7106</td>\n",
       "      <td>-70.3554</td>\n",
       "      <td>0.02</td>\n",
       "    </tr>\n",
       "    <tr>\n",
       "      <th>6</th>\n",
       "      <td>2018-04-08 17:08:47.415</td>\n",
       "      <td>7035.54</td>\n",
       "      <td>0.495897</td>\n",
       "      <td>7035.55</td>\n",
       "      <td>7035.54</td>\n",
       "      <td>0.01</td>\n",
       "      <td>-211.0660</td>\n",
       "      <td>-70.3554</td>\n",
       "      <td>0.03</td>\n",
       "    </tr>\n",
       "    <tr>\n",
       "      <th>7</th>\n",
       "      <td>2018-04-08 17:08:49.413</td>\n",
       "      <td>7035.54</td>\n",
       "      <td>0.103000</td>\n",
       "      <td>7035.55</td>\n",
       "      <td>7035.54</td>\n",
       "      <td>0.01</td>\n",
       "      <td>-281.4214</td>\n",
       "      <td>-70.3554</td>\n",
       "      <td>0.04</td>\n",
       "    </tr>\n",
       "    <tr>\n",
       "      <th>8</th>\n",
       "      <td>2018-04-08 17:08:51.663</td>\n",
       "      <td>7035.54</td>\n",
       "      <td>0.840149</td>\n",
       "      <td>7035.55</td>\n",
       "      <td>7035.54</td>\n",
       "      <td>0.01</td>\n",
       "      <td>-351.7768</td>\n",
       "      <td>-70.3554</td>\n",
       "      <td>0.05</td>\n",
       "    </tr>\n",
       "    <tr>\n",
       "      <th>9</th>\n",
       "      <td>2018-04-08 17:08:54.890</td>\n",
       "      <td>7035.55</td>\n",
       "      <td>0.046900</td>\n",
       "      <td>7035.55</td>\n",
       "      <td>7035.54</td>\n",
       "      <td>-0.01</td>\n",
       "      <td>-281.4213</td>\n",
       "      <td>70.3555</td>\n",
       "      <td>0.04</td>\n",
       "    </tr>\n",
       "    <tr>\n",
       "      <th>10</th>\n",
       "      <td>2018-04-08 17:09:07.259</td>\n",
       "      <td>7035.55</td>\n",
       "      <td>0.107400</td>\n",
       "      <td>7035.55</td>\n",
       "      <td>7035.54</td>\n",
       "      <td>-0.01</td>\n",
       "      <td>-211.0658</td>\n",
       "      <td>70.3555</td>\n",
       "      <td>0.03</td>\n",
       "    </tr>\n",
       "    <tr>\n",
       "      <th>11</th>\n",
       "      <td>2018-04-08 17:09:10.259</td>\n",
       "      <td>7035.54</td>\n",
       "      <td>0.443380</td>\n",
       "      <td>7035.55</td>\n",
       "      <td>7035.54</td>\n",
       "      <td>0.01</td>\n",
       "      <td>-281.4212</td>\n",
       "      <td>-70.3554</td>\n",
       "      <td>0.04</td>\n",
       "    </tr>\n",
       "    <tr>\n",
       "      <th>12</th>\n",
       "      <td>2018-04-08 17:09:14.027</td>\n",
       "      <td>7035.54</td>\n",
       "      <td>2.000000</td>\n",
       "      <td>7035.55</td>\n",
       "      <td>7035.54</td>\n",
       "      <td>0.01</td>\n",
       "      <td>-351.7766</td>\n",
       "      <td>-70.3554</td>\n",
       "      <td>0.05</td>\n",
       "    </tr>\n",
       "    <tr>\n",
       "      <th>13</th>\n",
       "      <td>2018-04-08 17:09:53.208</td>\n",
       "      <td>7029.00</td>\n",
       "      <td>0.482900</td>\n",
       "      <td>7029.00</td>\n",
       "      <td>7028.99</td>\n",
       "      <td>-0.01</td>\n",
       "      <td>-281.4866</td>\n",
       "      <td>70.2900</td>\n",
       "      <td>0.04</td>\n",
       "    </tr>\n",
       "  </tbody>\n",
       "</table>\n",
       "</div>"
      ],
      "text/plain": [
       "   timestamp_utc_microseconds    Price      Size  Ask1PriceMillionths  \\\n",
       "0     2018-04-08 17:08:08.293  7035.55  0.103400              7035.55   \n",
       "1     2018-04-08 17:08:13.472  7035.54  0.390000              7035.55   \n",
       "2     2018-04-08 17:08:19.105  7035.55  0.150200              7035.55   \n",
       "3     2018-04-08 17:08:20.858  7035.54  0.063000              7035.55   \n",
       "4     2018-04-08 17:08:23.087  7035.54  0.103000              7035.55   \n",
       "5     2018-04-08 17:08:42.770  7035.54  0.122300              7035.55   \n",
       "6     2018-04-08 17:08:47.415  7035.54  0.495897              7035.55   \n",
       "7     2018-04-08 17:08:49.413  7035.54  0.103000              7035.55   \n",
       "8     2018-04-08 17:08:51.663  7035.54  0.840149              7035.55   \n",
       "9     2018-04-08 17:08:54.890  7035.55  0.046900              7035.55   \n",
       "10    2018-04-08 17:09:07.259  7035.55  0.107400              7035.55   \n",
       "11    2018-04-08 17:09:10.259  7035.54  0.443380              7035.55   \n",
       "12    2018-04-08 17:09:14.027  7035.54  2.000000              7035.55   \n",
       "13    2018-04-08 17:09:53.208  7029.00  0.482900              7029.00   \n",
       "\n",
       "    Bid1PriceMillionths  Trade      Cash  CashI/O  Position  \n",
       "0               7035.54  -0.01   70.3555  70.3555     -0.01  \n",
       "1               7035.54   0.01    0.0001 -70.3554      0.00  \n",
       "2               7035.54  -0.01   70.3556  70.3555     -0.01  \n",
       "3               7035.54   0.01    0.0002 -70.3554      0.00  \n",
       "4               7035.54   0.01  -70.3552 -70.3554      0.01  \n",
       "5               7035.54   0.01 -140.7106 -70.3554      0.02  \n",
       "6               7035.54   0.01 -211.0660 -70.3554      0.03  \n",
       "7               7035.54   0.01 -281.4214 -70.3554      0.04  \n",
       "8               7035.54   0.01 -351.7768 -70.3554      0.05  \n",
       "9               7035.54  -0.01 -281.4213  70.3555      0.04  \n",
       "10              7035.54  -0.01 -211.0658  70.3555      0.03  \n",
       "11              7035.54   0.01 -281.4212 -70.3554      0.04  \n",
       "12              7035.54   0.01 -351.7766 -70.3554      0.05  \n",
       "13              7028.99  -0.01 -281.4866  70.2900      0.04  "
      ]
     },
     "execution_count": 10,
     "metadata": {},
     "output_type": "execute_result"
    }
   ],
   "source": [
    "a = PnLMarketMaker(df,0.01,0.055,0.035)\n",
    "a"
   ]
  },
  {
   "cell_type": "markdown",
   "metadata": {},
   "source": [
    "#### Conclusion\n",
    "    1) Sample Output matches with the one given in the HW assignment file."
   ]
  },
  {
   "cell_type": "markdown",
   "metadata": {},
   "source": [
    "### Plot for the trading points of the market maker"
   ]
  },
  {
   "cell_type": "code",
   "execution_count": 11,
   "metadata": {},
   "outputs": [
    {
     "data": {
      "image/png": "[encoded data removed]",
      "text/plain": [
       "<Figure size 720x432 with 1 Axes>"
      ]
     },
     "metadata": {
      "needs_background": "light"
     },
     "output_type": "display_data"
    }
   ],
   "source": [
    "long = a.loc[a['Trade'] == 0.01]\n",
    "short = a.loc[a['Trade'] == -0.01]\n",
    "\n",
    "fig = plt.figure(figsize = (10,6))\n",
    "ax = fig.add_subplot(111)\n",
    "plt.plot(a.index, a['Ask1PriceMillionths'], 'b-', color=\"black\")\n",
    "plt.plot(a.index, a['Bid1PriceMillionths'], 'b-',color=\"orange\")\n",
    "plt.plot(long.index, long['Bid1PriceMillionths'],'ro', color=\"green\", markersize=10, label = 'Long Position')\n",
    "plt.plot(short.index, short['Ask1PriceMillionths'],'ro', color=\"red\", markersize=10, label = 'Short Position')\n",
    "plt.ylim(top = 7035.7, bottom = 7035.3)\n",
    "\n",
    "ax.legend()\n",
    "\n",
    "plt.show()"
   ]
  },
  {
   "cell_type": "markdown",
   "metadata": {},
   "source": [
    "## Conclusion"
   ]
  },
  {
   "cell_type": "markdown",
   "metadata": {},
   "source": [
    "## Analysis on Big Trade Files 2018"
   ]
  },
  {
   "cell_type": "code",
   "execution_count": 4,
   "metadata": {},
   "outputs": [],
   "source": [
    "DFTrade = pd.read_csv('mkt_make_BTC_hw_big__trades.tab', sep = '\\t')\n",
    "DFBook = pd.read_csv('mkt_make_BTC_hw_big__book_lev_2.tab', sep = '\\t')\n",
    "    \n",
    "DFBook.drop(columns = ['Ask2PriceMillionths','Ask3PriceMillionths','Ask2SizeBillionths','Ask3SizeBillionths',\\\n",
    "                          'Bid2PriceMillionths','Bid2SizeBillionths','Bid3PriceMillionths','Bid3SizeBillionths'] \\\n",
    "               ,inplace = True)\n",
    "DFBook['Ask1PriceMillionths'] = DFBook['Ask1PriceMillionths'].apply(lambda x: np.float(x)/np.float(10**6))\n",
    "DFBook['Bid1PriceMillionths'] = DFBook['Bid1PriceMillionths'].apply(lambda x: np.float(x)/np.float(10**6))"
   ]
  },
  {
   "cell_type": "markdown",
   "metadata": {},
   "source": [
    "### Plot of Bitcoin Bid-Ask Price Data"
   ]
  },
  {
   "cell_type": "code",
   "execution_count": 5,
   "metadata": {
    "scrolled": true
   },
   "outputs": [
    {
     "data": {
      "image/png": "[encoded data removed]",
      "text/plain": [
       "<Figure size 432x288 with 1 Axes>"
      ]
     },
     "metadata": {
      "needs_background": "light"
     },
     "output_type": "display_data"
    }
   ],
   "source": [
    "DFBook[['Ask1PriceMillionths','Bid1PriceMillionths']].plot()\n",
    "plt.show()"
   ]
  },
  {
   "cell_type": "markdown",
   "metadata": {},
   "source": [
    "### Conclusion\n",
    "    1) We can observe from the above plot that the bitcoin price took a hit in the 2018 data provided."
   ]
  },
  {
   "cell_type": "code",
   "execution_count": 14,
   "metadata": {},
   "outputs": [],
   "source": [
    "def PnLMarketMaker(s,j,k,flag):\n",
    "    \n",
    "    DFTrade = pd.read_csv('mkt_make_BTC_hw_big__trades.tab', sep = '\\t')\n",
    "    DFBook = pd.read_csv('mkt_make_BTC_hw_big__book_lev_2.tab', sep = '\\t')\n",
    "    \n",
    "    DFBook.drop(columns = ['Ask2PriceMillionths','Ask3PriceMillionths','Ask2SizeBillionths','Ask3SizeBillionths',\\\n",
    "                          'Bid2PriceMillionths','Bid2SizeBillionths','Bid3PriceMillionths','Bid3SizeBillionths'] \\\n",
    "               ,inplace = True)\n",
    "    \n",
    "    DFBook['Ask1PriceMillionths'] = DFBook['Ask1PriceMillionths'].apply(lambda x: np.float(x)/np.float(10**6))\n",
    "    DFBook['Ask1SizeBillionths'] = DFBook['Ask1SizeBillionths'].apply(lambda x: np.float(x)/np.float(10**9))\n",
    "    DFBook['Bid1PriceMillionths'] = DFBook['Bid1PriceMillionths'].apply(lambda x: np.float(x)/np.float(10**6))\n",
    "    DFBook['Bid1SizeBillionths'] = DFBook['Bid1SizeBillionths'].apply(lambda x: np.float(x)/np.float(10**9))\n",
    "    \n",
    "    DFTrade[\"PriceTimePairAsk\"] = (DFTrade[\"timestamp_utc_microseconds\"].map(int)).map(str) + DFTrade[\"Price\"].map(str)\n",
    "    DFBook[\"PriceTimePairAsk\"] = (DFBook[\"timestamp_utc_microseconds\"].map(int)).map(str) + \\\n",
    "                                                DFBook[\"Ask1PriceMillionths\"].map(str)\n",
    "    dfAsk = pd.merge(DFTrade,DFBook, on = 'PriceTimePairAsk', how = 'inner')\n",
    "    dfAsk.drop(columns = ['timestamp_utc_microseconds_y','PriceTimePairAsk'], inplace = True)\n",
    "    dfAsk.rename(columns = {'timestamp_utc_microseconds_x':'timestamp_utc_microseconds'}, inplace = True)\n",
    "    DFTrade.drop(columns = ['PriceTimePairAsk'], inplace = True)\n",
    "    \n",
    "    DFTrade[\"PriceTimePairBid\"] = (DFTrade[\"timestamp_utc_microseconds\"].map(int)).map(str) + DFTrade[\"Price\"].map(str)\n",
    "    DFBook[\"PriceTimePairBid\"] = (DFBook[\"timestamp_utc_microseconds\"].map(int)).map(str) + \\\n",
    "                                                DFBook[\"Bid1PriceMillionths\"].map(str)\n",
    "    \n",
    "    dfBid = pd.merge(DFTrade,DFBook, on = 'PriceTimePairBid', how = 'inner')\n",
    "    dfBid.drop(columns = ['timestamp_utc_microseconds_y','PriceTimePairBid','PriceTimePairAsk'], inplace = True)\n",
    "    dfBid.rename(columns = {'timestamp_utc_microseconds_x':'timestamp_utc_microseconds'}, inplace = True)\n",
    "    DFTrade.drop(columns = ['PriceTimePairBid'], inplace = True)\n",
    "    \n",
    "    df = pd.concat([dfAsk,dfBid], axis = 0).reset_index(drop = True)\n",
    "    df.sort_values(by = ['received_utc_microseconds'], inplace = True)\n",
    "    df.drop(columns = ['Ask1SizeBillionths','Bid1SizeBillionths','received_utc_microseconds'], inplace = True)\n",
    "    df.drop_duplicates(inplace = True)\n",
    "    \n",
    "    df['Trade'] = 0.0 * len(df.index)\n",
    "    df['Cash'] = 0.0 * len(df.index)\n",
    "    df['CashI/O'] = 0.0 * len(df.index)\n",
    "    df['Position'] = 0.0 * len(df.index)\n",
    "    \n",
    "    df['timestamp_utc_microseconds'] = df['timestamp_utc_microseconds'].apply(lambda x: \\\n",
    "                                                                                    datetime.datetime.fromtimestamp(x/(10**6)))\n",
    "    df.loc[df['Price'] == df['Ask1PriceMillionths'],'Trade'] = -s\n",
    "    df.loc[df['Price'] == df['Bid1PriceMillionths'],'Trade'] = s\n",
    "        \n",
    "    #Participation criteria:\n",
    "    \n",
    "    for i in range(0,len(df.index)):\n",
    "        if (abs(df.iat[i,2]) <= 4 * s) or ((df.iat[i-1,8] + s > j) and df.iat[i,5] == s):\n",
    "            df.iat[i,5] = 0\n",
    "        elif (abs(df.iat[i,2]) <= 4 * s or ((df.iat[i-1,8] -s < -k))  and df.iat[i,5] == -s):\n",
    "            df.iat[i,5] = 0\n",
    "            \n",
    "        df.iat[i,8] = df.iat[i-1,8] + df.iat[i,5]\n",
    "    \n",
    "    df['CashI/O'] = - df['Trade'] * df['Price']\n",
    "    df['Cash'] = df['CashI/O'].cumsum()\n",
    "    \n",
    "    last = df['Price'].count()\n",
    "    \n",
    "   #Unwinding the trade position at the last trading point at the mid-price.\n",
    "    \n",
    "    if df.iat[last-1,8] != 0:\n",
    "        df.iat[last-1,5] = - df.iat[last-1,8]\n",
    "        df.iat[last-1,8] = 0\n",
    "        \n",
    "        #Exit the position at the last data point at the mid-price\n",
    "        \n",
    "        df.iat[last-1,7] = - df.iat[last-1,5] * (df.iat[last-1, 3] + df.iat[last-1,4])/2\n",
    "        df.iat[last-1,6] = df.iat[last-2,6] + df.iat[last-1,7]\n",
    "       \n",
    "    df.set_index(['timestamp_utc_microseconds'], inplace = True)\n",
    "    trade_count = len(df[df['Trade'] != 0].index)\n",
    "    trade_bid = len(df[df['Trade'] == s].index)             # To check the count of trades happening at the bid\n",
    "    trade_ask = len(df[df['Trade'] == -s].index)            # To check the count of trades happening at the ask\n",
    "    \n",
    "    if flag == 1:\n",
    "        return (df.iat[last-1,5],trade_count,trade_bid,trade_ask)\n",
    "    else:\n",
    "        return df"
   ]
  },
  {
   "cell_type": "markdown",
   "metadata": {},
   "source": [
    "### Trying different parameter values to obtain trends"
   ]
  },
  {
   "cell_type": "code",
   "execution_count": 15,
   "metadata": {},
   "outputs": [],
   "source": [
    "results,val = [],[]\n",
    "for s in [0.01,0.02,0.03,0.05,0.07]:\n",
    "    for j in [0.03,0.04,0.05,0.07,0.1]:\n",
    "        for k in [0.01,0.02,0.03,0.05,0.07,0.1]:\n",
    "            a = PnLMarketMaker(s,j,k,1)\n",
    "            results.append(a[0])\n",
    "            val.append([s,j,k,a[1],a[2],a[3]])"
   ]
  },
  {
   "cell_type": "code",
   "execution_count": 16,
   "metadata": {
    "scrolled": true
   },
   "outputs": [
    {
     "data": {
      "text/html": [
       "<div>\n",
       "<style scoped>\n",
       "    .dataframe tbody tr th:only-of-type {\n",
       "        vertical-align: middle;\n",
       "    }\n",
       "\n",
       "    .dataframe tbody tr th {\n",
       "        vertical-align: top;\n",
       "    }\n",
       "\n",
       "    .dataframe thead th {\n",
       "        text-align: right;\n",
       "    }\n",
       "</style>\n",
       "<table border=\"1\" class=\"dataframe\">\n",
       "  <thead>\n",
       "    <tr style=\"text-align: right;\">\n",
       "      <th></th>\n",
       "      <th>s</th>\n",
       "      <th>j</th>\n",
       "      <th>k</th>\n",
       "      <th>Trade Count</th>\n",
       "      <th>Bid Trades</th>\n",
       "      <th>Ask Trades</th>\n",
       "      <th>PnL</th>\n",
       "    </tr>\n",
       "  </thead>\n",
       "  <tbody>\n",
       "    <tr>\n",
       "      <th>118</th>\n",
       "      <td>0.05</td>\n",
       "      <td>0.10</td>\n",
       "      <td>0.07</td>\n",
       "      <td>3732</td>\n",
       "      <td>1866</td>\n",
       "      <td>1866</td>\n",
       "      <td>-253.92225</td>\n",
       "    </tr>\n",
       "    <tr>\n",
       "      <th>88</th>\n",
       "      <td>0.03</td>\n",
       "      <td>0.10</td>\n",
       "      <td>0.07</td>\n",
       "      <td>5437</td>\n",
       "      <td>2717</td>\n",
       "      <td>2719</td>\n",
       "      <td>-237.78780</td>\n",
       "    </tr>\n",
       "    <tr>\n",
       "      <th>58</th>\n",
       "      <td>0.02</td>\n",
       "      <td>0.10</td>\n",
       "      <td>0.07</td>\n",
       "      <td>7264</td>\n",
       "      <td>3630</td>\n",
       "      <td>3633</td>\n",
       "      <td>-228.27870</td>\n",
       "    </tr>\n",
       "    <tr>\n",
       "      <th>57</th>\n",
       "      <td>0.02</td>\n",
       "      <td>0.10</td>\n",
       "      <td>0.05</td>\n",
       "      <td>7015</td>\n",
       "      <td>3506</td>\n",
       "      <td>3508</td>\n",
       "      <td>-215.14460</td>\n",
       "    </tr>\n",
       "    <tr>\n",
       "      <th>87</th>\n",
       "      <td>0.03</td>\n",
       "      <td>0.10</td>\n",
       "      <td>0.05</td>\n",
       "      <td>5122</td>\n",
       "      <td>2561</td>\n",
       "      <td>2561</td>\n",
       "      <td>-206.74365</td>\n",
       "    </tr>\n",
       "    <tr>\n",
       "      <th>56</th>\n",
       "      <td>0.02</td>\n",
       "      <td>0.10</td>\n",
       "      <td>0.03</td>\n",
       "      <td>6746</td>\n",
       "      <td>3372</td>\n",
       "      <td>3373</td>\n",
       "      <td>-199.42610</td>\n",
       "    </tr>\n",
       "    <tr>\n",
       "      <th>28</th>\n",
       "      <td>0.01</td>\n",
       "      <td>0.10</td>\n",
       "      <td>0.07</td>\n",
       "      <td>10282</td>\n",
       "      <td>5137</td>\n",
       "      <td>5144</td>\n",
       "      <td>-172.74985</td>\n",
       "    </tr>\n",
       "    <tr>\n",
       "      <th>51</th>\n",
       "      <td>0.02</td>\n",
       "      <td>0.07</td>\n",
       "      <td>0.05</td>\n",
       "      <td>6441</td>\n",
       "      <td>3219</td>\n",
       "      <td>3221</td>\n",
       "      <td>-166.15360</td>\n",
       "    </tr>\n",
       "    <tr>\n",
       "      <th>27</th>\n",
       "      <td>0.01</td>\n",
       "      <td>0.10</td>\n",
       "      <td>0.05</td>\n",
       "      <td>9907</td>\n",
       "      <td>4951</td>\n",
       "      <td>4955</td>\n",
       "      <td>-165.35360</td>\n",
       "    </tr>\n",
       "    <tr>\n",
       "      <th>81</th>\n",
       "      <td>0.03</td>\n",
       "      <td>0.07</td>\n",
       "      <td>0.05</td>\n",
       "      <td>4726</td>\n",
       "      <td>2363</td>\n",
       "      <td>2363</td>\n",
       "      <td>-159.48045</td>\n",
       "    </tr>\n",
       "  </tbody>\n",
       "</table>\n",
       "</div>"
      ],
      "text/plain": [
       "        s     j     k  Trade Count  Bid Trades  Ask Trades        PnL\n",
       "118  0.05  0.10  0.07         3732        1866        1866 -253.92225\n",
       "88   0.03  0.10  0.07         5437        2717        2719 -237.78780\n",
       "58   0.02  0.10  0.07         7264        3630        3633 -228.27870\n",
       "57   0.02  0.10  0.05         7015        3506        3508 -215.14460\n",
       "87   0.03  0.10  0.05         5122        2561        2561 -206.74365\n",
       "56   0.02  0.10  0.03         6746        3372        3373 -199.42610\n",
       "28   0.01  0.10  0.07        10282        5137        5144 -172.74985\n",
       "51   0.02  0.07  0.05         6441        3219        3221 -166.15360\n",
       "27   0.01  0.10  0.05         9907        4951        4955 -165.35360\n",
       "81   0.03  0.07  0.05         4726        2363        2363 -159.48045"
      ]
     },
     "execution_count": 16,
     "metadata": {},
     "output_type": "execute_result"
    }
   ],
   "source": [
    "a = pd.DataFrame(val)\n",
    "b = pd.DataFrame(results)\n",
    "a = a.rename(columns={0: \"s\", 1: \"j\", 2: \"k\", 3: \"Trade Count\", 4: \"Bid Trades\", 5: \"Ask Trades\"})\n",
    "b = b.rename(columns = {0: \"PnL\"})\n",
    "c = pd.concat([a,b],axis = 1)\n",
    "c = c.drop(c[c.s >= c.j].index)\n",
    "c = c.drop(c[c.s >= c.k].index)\n",
    "c = c.drop(c[c.k >= c.j].index)\n",
    "c = c.sort_values(by=['PnL'], ascending = True)\n",
    "c.head(10)"
   ]
  },
  {
   "cell_type": "code",
   "execution_count": 17,
   "metadata": {},
   "outputs": [
    {
     "data": {
      "image/png": "[encoded data removed]",
      "text/plain": [
       "<Figure size 720x360 with 2 Axes>"
      ]
     },
     "metadata": {
      "needs_background": "light"
     },
     "output_type": "display_data"
    }
   ],
   "source": [
    "fig, ax = plt.subplots(nrows = 1,ncols = 2,figsize=(10, 5))\n",
    "fig.suptitle('Histograms of Bitcoin simulated market making performance',fontsize = 15)\n",
    "\n",
    "plt.subplot(1,2,1)\n",
    "plt.hist(c['PnL'], bins = 30)\n",
    "plt.xlabel(\"PnL\")\n",
    "plt.ylabel(\"Count\")\n",
    "\n",
    "plt.subplot(1,2,2)\n",
    "plt.hist(c['Trade Count'], bins = 30)\n",
    "plt.xlabel(\"Market-Making Trade Count\")\n",
    "plt.ylabel(\"Count\")\n",
    "\n",
    "plt.show()"
   ]
  },
  {
   "cell_type": "markdown",
   "metadata": {},
   "source": [
    "### Conclusion\n",
    "    1) From the above histogram for PnL we can observe that market making in Bitcoin is not a profitable business. In all the simulations we lose money. The reason being the spreads are very low and there is a high risk of being run over causing losses.\n",
    "    2) The set of parameters used to generate above simulations generate enough trading oportunities as seen from the above Market making trade count - a measure of participation by the market maker."
   ]
  },
  {
   "cell_type": "markdown",
   "metadata": {},
   "source": [
    "### Scatter Plots of the results obtained for various set of parameters"
   ]
  },
  {
   "cell_type": "code",
   "execution_count": 18,
   "metadata": {},
   "outputs": [
    {
     "data": {
      "image/png": "[encoded data removed]",
      "text/plain": [
       "<Figure size 720x432 with 3 Axes>"
      ]
     },
     "metadata": {
      "needs_background": "light"
     },
     "output_type": "display_data"
    }
   ],
   "source": [
    "fig, ax = plt.subplots(nrows = 2,ncols = 2,figsize=(10, 6))\n",
    "fig.suptitle('Scatter-Plot of PnL vs variable Parameters',fontsize = 15)\n",
    "\n",
    "plt.subplot(1,3,1)\n",
    "plt.scatter(c['s'],c['PnL'])\n",
    "plt.title(\"PnL vs Transaction_Size\",fontsize = 10)\n",
    "plt.xlabel(\"Transaction_Size\")\n",
    "plt.ylabel(\"PnL\")\n",
    "plt.grid(True)\n",
    "ax = plt.gca()\n",
    "ax.set_facecolor('xkcd:light grey')\n",
    "\n",
    "plt.subplot(1,3,2)\n",
    "plt.scatter(c['j'],c['PnL'])\n",
    "plt.title(\"PnL vs Max Long Bitcoin Position\",fontsize = 10)\n",
    "plt.xlabel(\"Max Long Bitcoin Position\")\n",
    "plt.ylabel(\"PnL\")\n",
    "plt.grid(True)\n",
    "ax = plt.gca()\n",
    "ax.set_facecolor('xkcd:light grey')\n",
    "\n",
    "\n",
    "plt.subplot(1,3,3)\n",
    "plt.scatter(c['k'],c['PnL'])\n",
    "plt.title(\"PnL vs Max Short Bitcoin Position\",fontsize = 10)\n",
    "plt.xlabel(\"Max Short Bitcoin Position\")\n",
    "plt.ylabel(\"PnL\")\n",
    "plt.grid(True)\n",
    "ax = plt.gca()\n",
    "ax.set_facecolor('xkcd:light grey')\n",
    "\n",
    "plt.show()"
   ]
  },
  {
   "cell_type": "markdown",
   "metadata": {},
   "source": [
    "### Conclusion:\n",
    "    1) From the above scatter plot we can comment that the transaction size is inversely related to the PnL.\n",
    "    2) Also if we allow for higher maximum long position bitcoin position , this increases the run over risk and hence we observe an inverse relationship in PnL and Max Long Bitcoin Position parameter.\n",
    "    3) We see a similar relationship between the PnL and short bitcoin position because as this parameter goes up , the market maker gets into more adverse trades which causes loses."
   ]
  },
  {
   "cell_type": "markdown",
   "metadata": {},
   "source": [
    "### Analysing the PnL for a set of parameter values s = 0.02, j = 0.1, k = 0.05 "
   ]
  },
  {
   "cell_type": "code",
   "execution_count": 19,
   "metadata": {},
   "outputs": [],
   "source": [
    "a = PnLMarketMaker(0.02,0.1,0.05,0)"
   ]
  },
  {
   "cell_type": "code",
   "execution_count": 20,
   "metadata": {
    "scrolled": true
   },
   "outputs": [
    {
     "data": {
      "image/png": "[encoded data removed]",
      "text/plain": [
       "<Figure size 432x288 with 1 Axes>"
      ]
     },
     "metadata": {
      "needs_background": "light"
     },
     "output_type": "display_data"
    },
    {
     "data": {
      "image/png": "[encoded data removed]",
      "text/plain": [
       "<Figure size 432x288 with 1 Axes>"
      ]
     },
     "metadata": {
      "needs_background": "light"
     },
     "output_type": "display_data"
    },
    {
     "data": {
      "image/png": "[encoded data removed]",
      "text/plain": [
       "<Figure size 720x432 with 1 Axes>"
      ]
     },
     "metadata": {
      "needs_background": "light"
     },
     "output_type": "display_data"
    }
   ],
   "source": [
    "b = a.loc[((a['Ask1PriceMillionths'] < 7000) & (a['Ask1PriceMillionths'] > 6800))]\n",
    "b['Position'].plot()\n",
    "plt.title(\"Net Position\")\n",
    "plt.show()\n",
    "\n",
    "b['Bid1PriceMillionths'].plot()\n",
    "plt.title(\"Bitcoin Price\")\n",
    "plt.show()\n",
    "\n",
    "long = b.loc[b['Position'] > 0.08]\n",
    "short = b.loc[b['Position'] <= -0.04]\n",
    "\n",
    "fig = plt.figure(figsize = (10,6))\n",
    "ax = fig.add_subplot(111)\n",
    "plt.title(\"Zoomed in view of the net position market maker held before the drop\")\n",
    "plt.plot(b.index, b['Ask1PriceMillionths'], 'b-', color=\"black\")\n",
    "plt.plot(b.index, b['Bid1PriceMillionths'], 'b-',color=\"orange\")\n",
    "plt.plot(long.index, long['Bid1PriceMillionths'],'ro', color=\"green\", markersize=10, label = 'Long Position')\n",
    "plt.plot(short.index, short['Ask1PriceMillionths'],'ro', color=\"red\", markersize=10, label = 'Short Position')\n",
    "plt.ylim(top = 7000, bottom = 6980)\n",
    "\n",
    "ax.legend()\n",
    "\n",
    "plt.show()"
   ]
  },
  {
   "cell_type": "markdown",
   "metadata": {},
   "source": [
    "### Conclusion:\n",
    "    1) As we saw a sudden drop in the bitcoin prices in the day's data, we saw keeping a bigger long position limit caused more losses. If we reduce the maximum long position allowed in such a scenario the losses would reduce. The other way to reduce losses would have been to allow for more max short position. \n",
    "    2) The market maker was run over in the above situation as he had a long position leading up to the point of fall and even during the fall."
   ]
  },
  {
   "cell_type": "markdown",
   "metadata": {},
   "source": [
    "\n",
    "## Analysis on Big Trade Files 2019"
   ]
  },
  {
   "cell_type": "code",
   "execution_count": 6,
   "metadata": {},
   "outputs": [],
   "source": [
    "DFTrade = pd.read_csv('mkt_make_BTC_hw_big_2019__trades.tab', sep = '\\t')\n",
    "DFBook = pd.read_csv('mkt_make_BTC_hw_big_2019__book_lev_2.tab', sep = '\\t')\n",
    "\n",
    "DFBook.drop(columns = ['Ask2PriceMillionths','Ask3PriceMillionths','Ask2SizeBillionths','Ask3SizeBillionths',\\\n",
    "                      'Bid2PriceMillionths','Bid2SizeBillionths','Bid3PriceMillionths','Bid3SizeBillionths'] \\\n",
    "           ,inplace = True)\n",
    "DFBook['Ask1PriceMillionths'] = DFBook['Ask1PriceMillionths'].apply(lambda x: np.float(x)/np.float(10**6))\n",
    "DFBook['Bid1PriceMillionths'] = DFBook['Bid1PriceMillionths'].apply(lambda x: np.float(x)/np.float(10**6))"
   ]
  },
  {
   "cell_type": "markdown",
   "metadata": {},
   "source": [
    "### Plot of Bitcoin Bid-Ask Price Data"
   ]
  },
  {
   "cell_type": "code",
   "execution_count": 7,
   "metadata": {
    "scrolled": true
   },
   "outputs": [
    {
     "data": {
      "image/png": "[encoded data removed]",
      "text/plain": [
       "<Figure size 432x288 with 1 Axes>"
      ]
     },
     "metadata": {
      "needs_background": "light"
     },
     "output_type": "display_data"
    }
   ],
   "source": [
    "DFBook[['Ask1PriceMillionths','Bid1PriceMillionths']].plot()\n",
    "plt.show()"
   ]
  },
  {
   "cell_type": "code",
   "execution_count": 23,
   "metadata": {},
   "outputs": [],
   "source": [
    "def PnLMarketMaker(s,j,k,flag):\n",
    "    \n",
    "    DFTrade = pd.read_csv('mkt_make_BTC_hw_big_2019__trades.tab', sep = '\\t')\n",
    "    DFBook = pd.read_csv('mkt_make_BTC_hw_big_2019__book_lev_2.tab', sep = '\\t')\n",
    "    \n",
    "    DFBook.drop(columns = ['Ask2PriceMillionths','Ask3PriceMillionths','Ask2SizeBillionths','Ask3SizeBillionths',\\\n",
    "                          'Bid2PriceMillionths','Bid2SizeBillionths','Bid3PriceMillionths','Bid3SizeBillionths'] \\\n",
    "               ,inplace = True)\n",
    "    \n",
    "    DFBook['Ask1PriceMillionths'] = DFBook['Ask1PriceMillionths'].apply(lambda x: np.float(x)/np.float(10**6))\n",
    "    DFBook['Ask1SizeBillionths'] = DFBook['Ask1SizeBillionths'].apply(lambda x: np.float(x)/np.float(10**9))\n",
    "    DFBook['Bid1PriceMillionths'] = DFBook['Bid1PriceMillionths'].apply(lambda x: np.float(x)/np.float(10**6))\n",
    "    DFBook['Bid1SizeBillionths'] = DFBook['Bid1SizeBillionths'].apply(lambda x: np.float(x)/np.float(10**9))\n",
    "    \n",
    "    DFTrade[\"PriceTimePairAsk\"] = (DFTrade[\"timestamp_utc_microseconds\"].map(int)).map(str) + DFTrade[\"price\"].map(str)\n",
    "    DFBook[\"PriceTimePairAsk\"] = (DFBook[\"received_utc_microseconds\"].map(int)).map(str) + \\\n",
    "                                                DFBook[\"Ask1PriceMillionths\"].map(str)\n",
    "    dfAsk = pd.merge(DFTrade,DFBook, on = 'PriceTimePairAsk', how = 'inner')\n",
    "    dfAsk.drop(columns = ['timestamp_utc_microseconds_y','PriceTimePairAsk'], inplace = True)\n",
    "    dfAsk.rename(columns = {'timestamp_utc_microseconds_x':'timestamp_utc_microseconds'}, inplace = True)\n",
    "    DFTrade.drop(columns = ['PriceTimePairAsk'], inplace = True)\n",
    "    \n",
    "    DFTrade[\"PriceTimePairBid\"] = (DFTrade[\"timestamp_utc_microseconds\"].map(int)).map(str) + DFTrade[\"price\"].map(str)\n",
    "    DFBook[\"PriceTimePairBid\"] = (DFBook[\"received_utc_microseconds\"].map(int)).map(str) + \\\n",
    "                                                DFBook[\"Bid1PriceMillionths\"].map(str)\n",
    "    \n",
    "    dfBid = pd.merge(DFTrade,DFBook, on = 'PriceTimePairBid', how = 'inner')\n",
    "    dfBid.drop(columns = ['timestamp_utc_microseconds_y','PriceTimePairBid','PriceTimePairAsk'], inplace = True)\n",
    "    dfBid.rename(columns = {'timestamp_utc_microseconds_x':'timestamp_utc_microseconds'}, inplace = True)\n",
    "    DFTrade.drop(columns = ['PriceTimePairBid'], inplace = True)\n",
    "    \n",
    "    df = pd.concat([dfAsk,dfBid], axis = 0).reset_index(drop = True)\n",
    "    df.sort_values(by = ['received_utc_microseconds'], inplace = True)\n",
    "    df.drop(columns = ['Ask1SizeBillionths','Bid1SizeBillionths','received_utc_microseconds'], inplace = True)\n",
    "    df.drop_duplicates(inplace = True)\n",
    "    \n",
    "    df['Trade'] = 0.0 * len(df.index)\n",
    "    df['Cash'] = 0.0 * len(df.index)\n",
    "    df['CashI/O'] = 0.0 * len(df.index)\n",
    "    df['Position'] = 0.0 * len(df.index)\n",
    "    \n",
    "    df['timestamp_utc_microseconds'] = df['timestamp_utc_microseconds'].apply(lambda x: \\\n",
    "                                                                                    datetime.datetime.fromtimestamp(x/(10**6)))\n",
    "    df.loc[df['price'] == df['Ask1PriceMillionths'],'Trade'] = -s\n",
    "    df.loc[df['price'] == df['Bid1PriceMillionths'],'Trade'] = s\n",
    "        \n",
    "    #Participation criteria:\n",
    "    \n",
    "    for i in range(0,len(df.index)):\n",
    "        if (abs(df.iat[i,2]) <= 4 * s) or ((df.iat[i-1,8] + s > j) and df.iat[i,5] == s):\n",
    "            df.iat[i,5] = 0\n",
    "        elif (abs(df.iat[i,2]) <= 4 * s or ((df.iat[i-1,8] -s < -k))  and df.iat[i,5] == -s):\n",
    "            df.iat[i,5] = 0\n",
    "            \n",
    "        df.iat[i,8] = df.iat[i-1,8] + df.iat[i,5]\n",
    "    \n",
    "    df['CashI/O'] = - df['Trade'] * df['price']\n",
    "    df['Cash'] = df['CashI/O'].cumsum()\n",
    "    \n",
    "    #Unwinding the trade position at the last trading point at the mid-price.\n",
    "    \n",
    "    last = df['price'].count()\n",
    "    \n",
    "    if df.iat[last-1,8] != 0:\n",
    "        df.iat[last-1,5] = - df.iat[last-1,8]\n",
    "        df.iat[last-1,8] = 0\n",
    "        \n",
    "        #Exit the position at the last data point at the mid-price\n",
    "        \n",
    "        df.iat[last-1,7] = - df.iat[last-1,5] * (df.iat[last-1, 3] + df.iat[last-1,4])/2\n",
    "        df.iat[last-1,6] = df.iat[last-2,6] + df.iat[last-1,7]\n",
    "       \n",
    "    df.set_index(['timestamp_utc_microseconds'], inplace = True)\n",
    "    trade_count = len(df[df['Trade'] != 0].index)\n",
    "    trade_bid = len(df[df['Trade'] == s].index)             # To check the count of trades happening at the bid\n",
    "    trade_ask = len(df[df['Trade'] == -s].index)            # To check the count of trades happening at the ask\n",
    "    \n",
    "    if flag == 1:\n",
    "        return (df.iat[last-1,5],trade_count,trade_bid,trade_ask)\n",
    "    else:\n",
    "        return df"
   ]
  },
  {
   "cell_type": "code",
   "execution_count": 24,
   "metadata": {},
   "outputs": [],
   "source": [
    "results,val = [],[]\n",
    "for s in [0.01,0.02,0.03,0.05,0.07]:\n",
    "    for j in [0.03,0.04,0.05,0.07,0.1]:\n",
    "        for k in [0.01,0.02,0.03,0.05,0.07,0.1]:\n",
    "            a = PnLMarketMaker(s,j,k,1)\n",
    "            results.append(a[0])\n",
    "            val.append([s,j,k,a[1],a[2],a[3]])"
   ]
  },
  {
   "cell_type": "code",
   "execution_count": 25,
   "metadata": {},
   "outputs": [
    {
     "data": {
      "text/html": [
       "<div>\n",
       "<style scoped>\n",
       "    .dataframe tbody tr th:only-of-type {\n",
       "        vertical-align: middle;\n",
       "    }\n",
       "\n",
       "    .dataframe tbody tr th {\n",
       "        vertical-align: top;\n",
       "    }\n",
       "\n",
       "    .dataframe thead th {\n",
       "        text-align: right;\n",
       "    }\n",
       "</style>\n",
       "<table border=\"1\" class=\"dataframe\">\n",
       "  <thead>\n",
       "    <tr style=\"text-align: right;\">\n",
       "      <th></th>\n",
       "      <th>s</th>\n",
       "      <th>j</th>\n",
       "      <th>k</th>\n",
       "      <th>Trade Count</th>\n",
       "      <th>Bid Trades</th>\n",
       "      <th>Ask Trades</th>\n",
       "      <th>PnL</th>\n",
       "    </tr>\n",
       "  </thead>\n",
       "  <tbody>\n",
       "    <tr>\n",
       "      <th>118</th>\n",
       "      <td>0.05</td>\n",
       "      <td>0.1</td>\n",
       "      <td>0.07</td>\n",
       "      <td>859</td>\n",
       "      <td>430</td>\n",
       "      <td>428</td>\n",
       "      <td>-18.5325</td>\n",
       "    </tr>\n",
       "    <tr>\n",
       "      <th>88</th>\n",
       "      <td>0.03</td>\n",
       "      <td>0.1</td>\n",
       "      <td>0.07</td>\n",
       "      <td>1409</td>\n",
       "      <td>705</td>\n",
       "      <td>703</td>\n",
       "      <td>-13.8663</td>\n",
       "    </tr>\n",
       "    <tr>\n",
       "      <th>87</th>\n",
       "      <td>0.03</td>\n",
       "      <td>0.1</td>\n",
       "      <td>0.05</td>\n",
       "      <td>1339</td>\n",
       "      <td>670</td>\n",
       "      <td>668</td>\n",
       "      <td>-12.7377</td>\n",
       "    </tr>\n",
       "    <tr>\n",
       "      <th>57</th>\n",
       "      <td>0.02</td>\n",
       "      <td>0.1</td>\n",
       "      <td>0.05</td>\n",
       "      <td>1914</td>\n",
       "      <td>958</td>\n",
       "      <td>955</td>\n",
       "      <td>-10.8635</td>\n",
       "    </tr>\n",
       "    <tr>\n",
       "      <th>56</th>\n",
       "      <td>0.02</td>\n",
       "      <td>0.1</td>\n",
       "      <td>0.03</td>\n",
       "      <td>1856</td>\n",
       "      <td>929</td>\n",
       "      <td>926</td>\n",
       "      <td>-10.6777</td>\n",
       "    </tr>\n",
       "  </tbody>\n",
       "</table>\n",
       "</div>"
      ],
      "text/plain": [
       "        s    j     k  Trade Count  Bid Trades  Ask Trades      PnL\n",
       "118  0.05  0.1  0.07          859         430         428 -18.5325\n",
       "88   0.03  0.1  0.07         1409         705         703 -13.8663\n",
       "87   0.03  0.1  0.05         1339         670         668 -12.7377\n",
       "57   0.02  0.1  0.05         1914         958         955 -10.8635\n",
       "56   0.02  0.1  0.03         1856         929         926 -10.6777"
      ]
     },
     "execution_count": 25,
     "metadata": {},
     "output_type": "execute_result"
    }
   ],
   "source": [
    "a = pd.DataFrame(val)\n",
    "b = pd.DataFrame(results)\n",
    "a = a.rename(columns={0: \"s\", 1: \"j\", 2: \"k\", 3: \"Trade Count\", 4: \"Bid Trades\", 5: \"Ask Trades\"})\n",
    "b = b.rename(columns = {0: \"PnL\"})\n",
    "c = pd.concat([a,b],axis = 1)\n",
    "c = c.drop(c[c.s >= c.j].index)\n",
    "c = c.drop(c[c.s >= c.k].index)\n",
    "c = c.drop(c[c.k >= c.j].index)\n",
    "c = c.sort_values(by=['PnL'], ascending = True)\n",
    "c.head()"
   ]
  },
  {
   "cell_type": "code",
   "execution_count": 26,
   "metadata": {
    "scrolled": true
   },
   "outputs": [
    {
     "data": {
      "image/png": "[encoded data removed]",
      "text/plain": [
       "<Figure size 720x360 with 2 Axes>"
      ]
     },
     "metadata": {
      "needs_background": "light"
     },
     "output_type": "display_data"
    }
   ],
   "source": [
    "fig, ax = plt.subplots(nrows = 1,ncols = 2,figsize=(10, 5))\n",
    "fig.suptitle('Histograms of Bitcoin simulated market making performance',fontsize = 15)\n",
    "\n",
    "plt.subplot(1,2,1)\n",
    "plt.hist(c['PnL'], bins = 30)\n",
    "plt.xlabel(\"PnL\")\n",
    "plt.ylabel(\"Count\")\n",
    "\n",
    "plt.subplot(1,2,2)\n",
    "plt.hist(c['Trade Count'], bins = 30)\n",
    "plt.xlabel(\"Market-Making Trade Count\")\n",
    "plt.ylabel(\"Count\")\n",
    "\n",
    "plt.show()"
   ]
  },
  {
   "cell_type": "markdown",
   "metadata": {},
   "source": [
    "### Conclusion\n",
    "    1) From the above histogram for PnL we can observe that market making in Bitcoin is not a profitable business. In all (fro the set of parameter taken) the simulations we lose money. The reason being the spreads are very low and there is a high risk of being run over causing losses.\n",
    "    2) The set of parameters used to generate above simulations generate lesser trading oportunities when compared to the 2018 data,as seen from the above Market making trade count - a measure of participation by the market maker."
   ]
  },
  {
   "cell_type": "markdown",
   "metadata": {},
   "source": [
    "### Scatter Plots of the results"
   ]
  },
  {
   "cell_type": "code",
   "execution_count": 27,
   "metadata": {},
   "outputs": [
    {
     "data": {
      "image/png": "[encoded data removed]",
      "text/plain": [
       "<Figure size 1080x432 with 3 Axes>"
      ]
     },
     "metadata": {
      "needs_background": "light"
     },
     "output_type": "display_data"
    }
   ],
   "source": [
    "fig, ax = plt.subplots(nrows = 2,ncols = 2,figsize=(15, 6))\n",
    "fig.suptitle('Scatter-Plot of PnL vs variable Parameters',fontsize = 15)\n",
    "\n",
    "plt.subplot(1,3,1)\n",
    "plt.scatter(c['s'],c['PnL'])\n",
    "plt.title(\"PnL vs Transaction_Size\",fontsize = 10)\n",
    "plt.xlabel(\"Transaction_Size\")\n",
    "plt.ylabel(\"PnL\")\n",
    "plt.grid(True)\n",
    "ax = plt.gca()\n",
    "ax.set_facecolor('xkcd:light grey')\n",
    "\n",
    "plt.subplot(1,3,2)\n",
    "plt.scatter(c['j'],c['PnL'])\n",
    "plt.title(\"PnL vs Max Long Bitcoin Position\",fontsize = 10)\n",
    "plt.xlabel(\"Max Long Bitcoin Position\")\n",
    "plt.ylabel(\"PnL\")\n",
    "plt.grid(True)\n",
    "ax = plt.gca()\n",
    "ax.set_facecolor('xkcd:light grey')\n",
    "\n",
    "\n",
    "plt.subplot(1,3,3)\n",
    "plt.scatter(c['k'],c['PnL'])\n",
    "plt.title(\"PnL vs Max Short Bitcoin Position\",fontsize = 10)\n",
    "plt.xlabel(\"Max Short Bitcoin Position\")\n",
    "plt.ylabel(\"PnL\")\n",
    "plt.grid(True)\n",
    "ax = plt.gca()\n",
    "ax.set_facecolor('xkcd:light grey')\n",
    "\n",
    "plt.show()"
   ]
  },
  {
   "cell_type": "markdown",
   "metadata": {},
   "source": [
    "### Conclusion:\n",
    "    1) From the above scatter plot we can comment that the transaction size is inversely related to the PnL(same as 2018 result).\n",
    "    2) Also if we allow for higher maximum long position bitcoin position , this increases the run over risk and hence we observe an inverse relationship in PnL and Max Long Bitcoin Position parameter.\n",
    "    3) We see a similar relationship between the PnL and short bitcoin position because as this parameter goes up , the market maker gets into more adverse trades which causes some cases of extreme loses."
   ]
  },
  {
   "cell_type": "markdown",
   "metadata": {},
   "source": [
    "### Boxplots"
   ]
  },
  {
   "cell_type": "code",
   "execution_count": 28,
   "metadata": {},
   "outputs": [
    {
     "data": {
      "image/png": "[encoded data removed]",
      "text/plain": [
       "<Figure size 432x360 with 1 Axes>"
      ]
     },
     "metadata": {
      "needs_background": "light"
     },
     "output_type": "display_data"
    },
    {
     "data": {
      "image/png": "[encoded data removed]",
      "text/plain": [
       "<Figure size 432x360 with 1 Axes>"
      ]
     },
     "metadata": {
      "needs_background": "light"
     },
     "output_type": "display_data"
    },
    {
     "data": {
      "image/png": "[encoded data removed]",
      "text/plain": [
       "<Figure size 432x360 with 1 Axes>"
      ]
     },
     "metadata": {
      "needs_background": "light"
     },
     "output_type": "display_data"
    }
   ],
   "source": [
    "boxplot = c.boxplot(column=['PnL'], by='s', figsize = (6,5), fontsize = 10)\n",
    "plt.xlabel(\"Transaction_Size\")\n",
    "plt.ylabel(\"PnL\")\n",
    "ax = plt.gca()\n",
    "ax.set_facecolor('xkcd:light grey')\n",
    "plt.show()\n",
    "\n",
    "boxplot = c.boxplot(column=['PnL'], by='j', figsize = (6,5), fontsize = 10)\n",
    "plt.xlabel(\"Max Long Bitcoin Position\")\n",
    "plt.ylabel(\"PnL\")\n",
    "ax = plt.gca()\n",
    "ax.set_facecolor('xkcd:light grey')\n",
    "\n",
    "boxplot = c.boxplot(column=['PnL'], by='k',figsize = (6,5), fontsize = 10)\n",
    "plt.xlabel(\"Max Short Bitcoin Position\")\n",
    "plt.ylabel(\"PnL\")\n",
    "ax = plt.gca()\n",
    "ax.set_facecolor('xkcd:light grey')"
   ]
  },
  {
   "cell_type": "markdown",
   "metadata": {},
   "source": [
    "### Plot of the trading activities for a particular set of parameters\n",
    "\n",
    "    1) I have shown the PnL accumulation of the trading strategy( Equity Curve )."
   ]
  },
  {
   "cell_type": "code",
   "execution_count": 29,
   "metadata": {},
   "outputs": [],
   "source": [
    "a = PnLMarketMaker(0.03,0.1,0.05,0)"
   ]
  },
  {
   "cell_type": "code",
   "execution_count": 32,
   "metadata": {},
   "outputs": [
    {
     "data": {
      "image/png": "[encoded data removed]",
      "text/plain": [
       "<Figure size 432x288 with 1 Axes>"
      ]
     },
     "metadata": {
      "needs_background": "light"
     },
     "output_type": "display_data"
    }
   ],
   "source": [
    "a['Cash'].plot()\n",
    "plt.title(\"Equity Curve of Bitcoin\")\n",
    "plt.show()"
   ]
  }
 ],
 "metadata": {
  "kernelspec": {
   "display_name": "Python 3",
   "language": "python",
   "name": "python3"
  },
  "language_info": {
   "codemirror_mode": {
    "name": "ipython",
    "version": 3
   },
   "file_extension": ".py",
   "mimetype": "text/x-python",
   "name": "python",
   "nbconvert_exporter": "python",
   "pygments_lexer": "ipython3",
   "version": "3.7.1"
  }
 },
 "nbformat": 4,
 "nbformat_minor": 2
}
